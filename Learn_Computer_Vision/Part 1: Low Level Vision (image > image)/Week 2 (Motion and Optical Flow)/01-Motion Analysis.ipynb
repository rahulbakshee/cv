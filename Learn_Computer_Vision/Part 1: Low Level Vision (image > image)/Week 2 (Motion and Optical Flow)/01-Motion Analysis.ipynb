{
 "cells": [
  {
   "cell_type": "markdown",
   "id": "proper-founder",
   "metadata": {},
   "source": [
    "# Part 1: Low Level Vision (image > image)\n",
    "> ## Week 2 (Motion and Optical Flow)\n",
    ">> **01-Motion Analysis**\n",
    "\n",
    "This is the curriculum for \"Learn Computer Vision\" by Siraj Raval on Youtube\n",
    "https://github.com/llSourcell/Learn_Computer_Vision"
   ]
  },
  {
   "cell_type": "code",
   "execution_count": 1,
   "id": "banned-director",
   "metadata": {},
   "outputs": [],
   "source": [
    "import time\n",
    "import numpy as np\n",
    "import pandas as pd\n",
    "import cv2"
   ]
  },
  {
   "cell_type": "markdown",
   "id": "limited-block",
   "metadata": {},
   "source": [
    "Motion Analysis is done in follwoing step:\n",
    "- take inputs from a webcam(or video file)\n",
    "- keep the first image as background\n",
    "- subtract successive frames from the background\n",
    "- threshold it for identifying significant change in pixel intensity \n",
    "- find and draw contours"
   ]
  },
  {
   "cell_type": "code",
   "execution_count": 2,
   "id": "overhead-northwest",
   "metadata": {},
   "outputs": [],
   "source": [
    "videoCapture = cv2.VideoCapture(0)\n",
    "background = None\n",
    "\n",
    "while True:\n",
    "    # camera capture gives a return value(True/ False) and a frame\n",
    "    returnValue, frame = videoCapture.read()\n",
    "    \n",
    "    if not returnValue or frame is None:\n",
    "        break\n",
    "        \n",
    "    gray = cv2.cvtColor(frame, cv2.COLOR_BGR2GRAY)\n",
    "    gray = cv2.GaussianBlur(gray, (21, 21), 0)\n",
    "    \n",
    "    if background is None:\n",
    "        background = gray\n",
    "        continue\n",
    "        \n",
    "        \n",
    "    diff_frame = cv2.absdiff(background, gray)\n",
    "    thresh_frame = cv2.threshold(diff_frame, 30, 255, cv2.THRESH_BINARY)[1] \n",
    "    thresh_frame = cv2.dilate(thresh_frame, None, iterations = 2) \n",
    "    \n",
    "    # find contours\n",
    "    contours, hierarchy = cv2.findContours(thresh_frame.copy(),  \n",
    "                       cv2.RETR_EXTERNAL, cv2.CHAIN_APPROX_SIMPLE) \n",
    "    \n",
    "    \n",
    "    \n",
    "    for contour in contours:\n",
    "        if cv2.contourArea(contour) < 5000:\n",
    "            continue\n",
    "            \n",
    "        (x, y, w, h) = cv2.boundingRect(contour) \n",
    "        cv2.rectangle(frame, (x, y), (x + w, y + h), (0, 255, 0), 3)\n",
    "    \n",
    "    cv2.imshow(\"Gray Frame\", gray) \n",
    "    cv2.imshow(\"Difference Frame\", diff_frame) \n",
    "    cv2.imshow(\"Threshold Frame\", thresh_frame) \n",
    "    cv2.imshow(\"Color Frame\", frame) \n",
    "    \n",
    "    \n",
    "    \n",
    "    key = cv2.waitKey(1) & 0xFF\n",
    "    # if the `q` key is pressed, break from the lop\n",
    "    if key == ord(\"q\"):\n",
    "        break\n",
    "    \n",
    "videoCapture.release()\n",
    "cv2.destroyAllWindows()"
   ]
  },
  {
   "cell_type": "code",
   "execution_count": 3,
   "id": "enclosed-continuity",
   "metadata": {},
   "outputs": [],
   "source": [
    "# release the camera if not done previously\n",
    "videoCapture.release()\n",
    "cv2.destroyAllWindows()"
   ]
  },
  {
   "cell_type": "markdown",
   "id": "designing-badge",
   "metadata": {},
   "source": [
    "### references:\n",
    "- https://www.pyimagesearch.com/2015/05/25/basic-motion-detection-and-tracking-with-python-and-opencv/\n",
    "- https://www.geeksforgeeks.org/webcam-motion-detector-python/"
   ]
  }
 ],
 "metadata": {
  "kernelspec": {
   "display_name": "Python 3",
   "language": "python",
   "name": "python3"
  },
  "language_info": {
   "codemirror_mode": {
    "name": "ipython",
    "version": 3
   },
   "file_extension": ".py",
   "mimetype": "text/x-python",
   "name": "python",
   "nbconvert_exporter": "python",
   "pygments_lexer": "ipython3",
   "version": "3.8.3"
  }
 },
 "nbformat": 4,
 "nbformat_minor": 5
}
